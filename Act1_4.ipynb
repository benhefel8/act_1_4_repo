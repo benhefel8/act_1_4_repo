{
  "nbformat": 4,
  "nbformat_minor": 0,
  "metadata": {
    "colab": {
      "provenance": []
    },
    "kernelspec": {
      "name": "python3",
      "display_name": "Python 3"
    },
    "language_info": {
      "name": "python"
    }
  },
  "cells": [
    {
      "cell_type": "code",
      "execution_count": 23,
      "metadata": {
        "id": "iWL53lU8bNCs"
      },
      "outputs": [],
      "source": [
        "triangle_area = lambda b, h : ..."
      ]
    },
    {
      "cell_type": "code",
      "source": [
        "triangle_area = lambda b, h :(b*h)/(2)"
      ],
      "metadata": {
        "id": "dN0oFU-Odv0n"
      },
      "execution_count": 26,
      "outputs": []
    },
    {
      "cell_type": "code",
      "source": [
        "triangle_area(3,4)"
      ],
      "metadata": {
        "colab": {
          "base_uri": "https://localhost:8080/"
        },
        "id": "RTbml10LcUDR",
        "outputId": "81f97e6c-1f9d-461e-b478-e8653fa25949"
      },
      "execution_count": 27,
      "outputs": [
        {
          "output_type": "execute_result",
          "data": {
            "text/plain": [
              "6.0"
            ]
          },
          "metadata": {},
          "execution_count": 27
        }
      ]
    },
    {
      "cell_type": "code",
      "source": [
        "def test_triangle_area():\n",
        "  assert triangle_area(5,4) == 10\n",
        "  assert triangle_area(10,20) == 100\n",
        "  assert triangle_area(10, 10) == 50\n",
        "  assert triangle_area(10, 0) == 0\n",
        "  assert triangle_area(5, 10) == 25\n",
        "test_triangle_area()"
      ],
      "metadata": {
        "id": "Gkr53m2Zcmcw"
      },
      "execution_count": 28,
      "outputs": []
    },
    {
      "cell_type": "code",
      "source": [
        "def triangle_area(base, height):\n",
        "    \"\"\"Computes the area of a triangle given the base and height\n",
        "\n",
        "    Args:\n",
        "        base: The base of the triangle\n",
        "        height: The height of the triangle\n",
        "\n",
        "    Returns:\n",
        "        float: The area of the triangle\n",
        "    \"\"\"\n",
        "    output = (base*height)/2\n",
        "    return output"
      ],
      "metadata": {
        "id": "fxBcLmLFddkA"
      },
      "execution_count": 34,
      "outputs": []
    },
    {
      "cell_type": "code",
      "source": [
        "def test_triangle_area():\n",
        "  assert triangle_area(5,4) == 10\n",
        "  assert triangle_area(10,20) == 100\n",
        "  assert triangle_area(10, 10) == 50\n",
        "  assert triangle_area(10, 0) == 0\n",
        "  assert triangle_area(5, 10) == 25\n",
        "test_triangle_area()"
      ],
      "metadata": {
        "id": "ZBkiuqk_e_QY"
      },
      "execution_count": 36,
      "outputs": []
    },
    {
      "cell_type": "code",
      "source": [
        "help(triangle_area)"
      ],
      "metadata": {
        "colab": {
          "base_uri": "https://localhost:8080/"
        },
        "id": "QQcliQvFek_D",
        "outputId": "d9159bf9-b001-46fd-b042-cf25c505adc3"
      },
      "execution_count": 35,
      "outputs": [
        {
          "output_type": "stream",
          "name": "stdout",
          "text": [
            "Help on function triangle_area in module __main__:\n",
            "\n",
            "triangle_area(base, height)\n",
            "    Computes the area of a triangle given the base and height\n",
            "    \n",
            "    Args:\n",
            "        base: The base of the triangle\n",
            "        height: The height of the triangle\n",
            "    \n",
            "    Returns:\n",
            "        float: The area of the triangle\n",
            "\n"
          ]
        }
      ]
    }
  ]
}